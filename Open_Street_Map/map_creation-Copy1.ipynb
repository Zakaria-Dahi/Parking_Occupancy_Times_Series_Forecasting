{
 "cells": [
  {
   "cell_type": "code",
   "execution_count": null,
   "metadata": {
    "colab": {
     "base_uri": "https://localhost:8080/",
     "height": 1000
    },
    "executionInfo": {
     "elapsed": 26402,
     "status": "ok",
     "timestamp": 1669108451482,
     "user": {
      "displayName": "Diego Pedroza",
      "userId": "03510953465629295221"
     },
     "user_tz": -60
    },
    "id": "86fZWLY6VDdz",
    "outputId": "b894e2a8-203c-4a5c-afca-b2926d7bec18"
   },
   "outputs": [],
   "source": [
    "!pip install osmnx\n",
    "!pip install geopandas"
   ]
  },
  {
   "cell_type": "code",
   "execution_count": 3,
   "metadata": {
    "executionInfo": {
     "elapsed": 2792,
     "status": "ok",
     "timestamp": 1669108454270,
     "user": {
      "displayName": "Diego Pedroza",
      "userId": "03510953465629295221"
     },
     "user_tz": -60
    },
    "id": "Ge_fVMYKWYdq"
   },
   "outputs": [],
   "source": [
    "import matplotlib.pyplot as plt\n",
    "import osmnx as ox\n",
    "import argparse\n",
    "from pathlib import Path"
   ]
  },
  {
   "cell_type": "markdown",
   "metadata": {
    "id": "96E1O59kVwud"
   },
   "source": [
    "Escenario"
   ]
  },
  {
   "cell_type": "code",
   "execution_count": 12,
   "metadata": {
    "executionInfo": {
     "elapsed": 199,
     "status": "ok",
     "timestamp": 1669113282468,
     "user": {
      "displayName": "Diego Pedroza",
      "userId": "03510953465629295221"
     },
     "user_tz": -60
    },
    "id": "JiNyrvOPVzWa"
   },
   "outputs": [],
   "source": [
    "scenario = 'Malaga'\n",
    "query = 'Malaga, Andalusia, Spain'\n",
    "network_type = 'bike'\n",
    "OTHER_OUTPUT_FORMAT = 'bike-tags'\n",
    "output_file = f'map-{scenario}-{network_type}--{OTHER_OUTPUT_FORMAT}'"
   ]
  },
  {
   "cell_type": "code",
   "execution_count": null,
   "metadata": {},
   "outputs": [],
   "source": [
    "# Walking_G\n",
    "network_type_WG = 'walk'\n",
    "output_file_WG = f'map-{scenario}-{network_type_WG}--{OTHER_OUTPUT_FORMAT}'"
   ]
  },
  {
   "cell_type": "markdown",
   "metadata": {
    "id": "-aqJ1pjTV9BK"
   },
   "source": [
    "Fichero de salida"
   ]
  },
  {
   "cell_type": "code",
   "execution_count": 13,
   "metadata": {
    "colab": {
     "base_uri": "https://localhost:8080/"
    },
    "executionInfo": {
     "elapsed": 2453,
     "status": "ok",
     "timestamp": 1669113286497,
     "user": {
      "displayName": "Diego Pedroza",
      "userId": "03510953465629295221"
     },
     "user_tz": -60
    },
    "id": "KbXljVChYXKc",
    "outputId": "2f527b66-3d3a-4d17-a406-ef46152ba2d3"
   },
   "outputs": [],
   "source": [
    "import sys\n",
    "IN_COLAB = 'google.colab' in sys.modules\n",
    "\n",
    "base_path = ''\n",
    "if IN_COLAB:\n",
    "    from google.colab import drive\n",
    "    drive.mount('/content/gdrive')\n",
    "    base_path = '/content/gdrive/Shareddrives/happy_mob'\n",
    "    !ls /content/gdrive/Shareddrives/happy_mob/\n",
    "else:\n",
    "    base_path = '.'"
   ]
  },
  {
   "cell_type": "code",
   "execution_count": 14,
   "metadata": {
    "executionInfo": {
     "elapsed": 3,
     "status": "ok",
     "timestamp": 1669113286497,
     "user": {
      "displayName": "Diego Pedroza",
      "userId": "03510953465629295221"
     },
     "user_tz": -60
    },
    "id": "Mf8aKFJ4V5uP"
   },
   "outputs": [],
   "source": [
    "data_path = base_path + '/data-osm/'\n",
    "data_path = data_path + scenario + '/'\n",
    "Path(data_path).mkdir(parents=True, exist_ok=True)"
   ]
  },
  {
   "cell_type": "markdown",
   "metadata": {
    "id": "hZJc9ldrBBsW"
   },
   "source": [
    "## Configuramos los tags importantes\n",
    "Por defecto, os.settings tiene useful_tags_way ([\"bridge\", \"tunnel\", \"oneway\", \"lanes\", \"ref\", \"name\", \"highway\", \"maxspeed\", \"service\", \"access\", \"area\", \"landuse\", \"width\", \"est_width\", \"junction\"]) y useful_tags_node ([\"ref\", \"highway\"].)\n"
   ]
  },
  {
   "cell_type": "code",
   "execution_count": 15,
   "metadata": {
    "colab": {
     "base_uri": "https://localhost:8080/"
    },
    "executionInfo": {
     "elapsed": 215,
     "status": "ok",
     "timestamp": 1669113288838,
     "user": {
      "displayName": "Diego Pedroza",
      "userId": "03510953465629295221"
     },
     "user_tz": -60
    },
    "id": "mXXc8Hd3B5Af",
    "outputId": "a911f1ca-1c71-4e33-a895-ec730b00bdb7"
   },
   "outputs": [
    {
     "name": "stdout",
     "output_type": "stream",
     "text": [
      "nodes: -> ['ref', 'highway', 'amenity', 'amenity'] \n",
      " edges: ->  ['bridge', 'tunnel', 'oneway', 'lanes', 'ref', 'name', 'highway', 'maxspeed', 'service', 'access', 'area', 'landuse', 'width', 'est_width', 'junction', 'sidewalk', 'cycleway', 'sidewalk', 'cycleway']\n"
     ]
    }
   ],
   "source": [
    "# tags = [\"bicycle_road\",\n",
    "#         \"cycleway\",\n",
    "#         \"cycleway:both\",\n",
    "#         \"cycleway:buffer\",\n",
    "#         \"cycleway:lane\",\n",
    "#         \"cycleway:left\",\n",
    "#         \"cycleway:right\",\n",
    "#         \"cycleway:right:oneway\",\n",
    "#         \"cycleway:surface\",\n",
    "#       ]\n",
    "# \n",
    "# amenity=school\n",
    "# amenity=university\n",
    "# amenity=college\n",
    "# amenity=dancing_school\n",
    "# amenity=driving_school\n",
    "# amenity=flight_school\n",
    "# amenity=language_school\n",
    "# amenity=music_school\n",
    "# amenity=prep_school\n",
    "# amenity=ski_school\n",
    "# isced:level=1,2\n",
    "#\n",
    "#\n",
    "tags = [\"sidewalk\",\"cycleway\"]\n",
    "# new_nodes = [\"amenity\"]\n",
    "base = ox.settings.useful_tags_way\n",
    "base_nodes = ox.settings.useful_tags_node \n",
    "\n",
    "ox.config(log_console=True, \n",
    "          useful_tags_way= base + tags,\n",
    "          useful_tags_node= base_nodes + new_nodes\n",
    "          \n",
    "          )\n",
    "print(\"nodes: ->\",ox.settings.useful_tags_node, \"\\n edges: -> \", ox.settings.useful_tags_way)"
   ]
  },
  {
   "cell_type": "markdown",
   "metadata": {
    "id": "pyixsIuXWGL1"
   },
   "source": [
    "Descargamos el grafo"
   ]
  },
  {
   "cell_type": "code",
   "execution_count": 16,
   "metadata": {
    "executionInfo": {
     "elapsed": 79453,
     "status": "ok",
     "timestamp": 1669113377619,
     "user": {
      "displayName": "Diego Pedroza",
      "userId": "03510953465629295221"
     },
     "user_tz": -60
    },
    "id": "3b4SIw45WIbX"
   },
   "outputs": [],
   "source": [
    "G = ox.graph_from_place(query, network_type=network_type, simplify=False)"
   ]
  },
  {
   "cell_type": "markdown",
   "metadata": {
    "id": "-mFd59UDWqKb"
   },
   "source": [
    "### Ploteamos todo el grafo"
   ]
  },
  {
   "cell_type": "code",
   "execution_count": null,
   "metadata": {
    "colab": {
     "base_uri": "https://localhost:8080/",
     "height": 454
    },
    "executionInfo": {
     "elapsed": 8829,
     "status": "ok",
     "timestamp": 1668612977032,
     "user": {
      "displayName": "Diego Pedroza",
      "userId": "03510953465629295221"
     },
     "user_tz": -60
    },
    "id": "GQ4CMR5Te6pC",
    "outputId": "bce412ca-c4f7-4e2f-96d2-bb571d44449c"
   },
   "outputs": [
    {
     "name": "stdout",
     "output_type": "stream",
     "text": [
      "Looking in indexes: https://pypi.org/simple, https://us-python.pkg.dev/colab-wheels/public/simple/\n",
      "Collecting matplotlib==3.1.1\n",
      "  Downloading matplotlib-3.1.1-cp37-cp37m-manylinux1_x86_64.whl (13.1 MB)\n",
      "\u001b[K     |████████████████████████████████| 13.1 MB 9.4 MB/s \n",
      "\u001b[?25hRequirement already satisfied: numpy>=1.11 in /usr/local/lib/python3.7/dist-packages (from matplotlib==3.1.1) (1.21.6)\n",
      "Requirement already satisfied: python-dateutil>=2.1 in /usr/local/lib/python3.7/dist-packages (from matplotlib==3.1.1) (2.8.2)\n",
      "Requirement already satisfied: pyparsing!=2.0.4,!=2.1.2,!=2.1.6,>=2.0.1 in /usr/local/lib/python3.7/dist-packages (from matplotlib==3.1.1) (3.0.9)\n",
      "Requirement already satisfied: kiwisolver>=1.0.1 in /usr/local/lib/python3.7/dist-packages (from matplotlib==3.1.1) (1.4.4)\n",
      "Requirement already satisfied: cycler>=0.10 in /usr/local/lib/python3.7/dist-packages (from matplotlib==3.1.1) (0.11.0)\n",
      "Requirement already satisfied: typing-extensions in /usr/local/lib/python3.7/dist-packages (from kiwisolver>=1.0.1->matplotlib==3.1.1) (4.1.1)\n",
      "Requirement already satisfied: six>=1.5 in /usr/local/lib/python3.7/dist-packages (from python-dateutil>=2.1->matplotlib==3.1.1) (1.15.0)\n",
      "Installing collected packages: matplotlib\n",
      "  Attempting uninstall: matplotlib\n",
      "    Found existing installation: matplotlib 3.5.3\n",
      "    Uninstalling matplotlib-3.5.3:\n",
      "      Successfully uninstalled matplotlib-3.5.3\n",
      "\u001b[31mERROR: pip's dependency resolver does not currently take into account all the packages that are installed. This behaviour is the source of the following dependency conflicts.\n",
      "osmnx 1.1.2 requires matplotlib>=3.4, but you have matplotlib 3.1.1 which is incompatible.\u001b[0m\n",
      "Successfully installed matplotlib-3.1.1\n"
     ]
    },
    {
     "data": {
      "application/vnd.colab-display-data+json": {
       "pip_warning": {
        "packages": [
         "matplotlib",
         "mpl_toolkits"
        ]
       }
      }
     },
     "metadata": {},
     "output_type": "display_data"
    }
   ],
   "source": [
    "!pip install matplotlib==3.1.1  # It is necessary to plot the map"
   ]
  },
  {
   "cell_type": "code",
   "execution_count": null,
   "metadata": {
    "id": "pPyVj47YWrVM"
   },
   "outputs": [],
   "source": [
    "# fig, ax = ox.plot_graph(G, edge_color='k', edge_alpha=0.2, bgcolor='white', node_color='none', figsize=(20,20))\n",
    "# fig.savefig(data_path + output_file + '.png')\n",
    "# plt.show()"
   ]
  },
  {
   "cell_type": "markdown",
   "metadata": {
    "id": "SECPAwjBETPe"
   },
   "source": [
    "### Filtrado del grafo"
   ]
  },
  {
   "cell_type": "code",
   "execution_count": 20,
   "metadata": {
    "executionInfo": {
     "elapsed": 52452,
     "status": "ok",
     "timestamp": 1669113430068,
     "user": {
      "displayName": "Diego Pedroza",
      "userId": "03510953465629295221"
     },
     "user_tz": -60
    },
    "id": "2VmI_ua_D036"
   },
   "outputs": [],
   "source": [
    "nodes, edges = ox.graph_to_gdfs(G)"
   ]
  },
  {
   "cell_type": "markdown",
   "metadata": {
    "id": "WzhR3AcNoLW1"
   },
   "source": [
    "#### Explorando Edges"
   ]
  },
  {
   "cell_type": "code",
   "execution_count": 21,
   "metadata": {
    "colab": {
     "base_uri": "https://localhost:8080/",
     "height": 649
    },
    "executionInfo": {
     "elapsed": 20,
     "status": "ok",
     "timestamp": 1668613038562,
     "user": {
      "displayName": "Diego Pedroza",
      "userId": "03510953465629295221"
     },
     "user_tz": -60
    },
    "id": "Esvr0X-cF8H_",
    "outputId": "5c441277-6816-4261-dcf0-02fbe77337aa"
   },
   "outputs": [
    {
     "data": {
      "text/html": [
       "<div>\n",
       "<style scoped>\n",
       "    .dataframe tbody tr th:only-of-type {\n",
       "        vertical-align: middle;\n",
       "    }\n",
       "\n",
       "    .dataframe tbody tr th {\n",
       "        vertical-align: top;\n",
       "    }\n",
       "\n",
       "    .dataframe thead th {\n",
       "        text-align: right;\n",
       "    }\n",
       "</style>\n",
       "<table border=\"1\" class=\"dataframe\">\n",
       "  <thead>\n",
       "    <tr style=\"text-align: right;\">\n",
       "      <th></th>\n",
       "      <th></th>\n",
       "      <th></th>\n",
       "      <th>osmid</th>\n",
       "      <th>highway</th>\n",
       "      <th>access</th>\n",
       "      <th>oneway</th>\n",
       "      <th>reversed</th>\n",
       "      <th>length</th>\n",
       "      <th>lanes</th>\n",
       "      <th>name</th>\n",
       "      <th>maxspeed</th>\n",
       "      <th>sidewalk</th>\n",
       "      <th>junction</th>\n",
       "      <th>ref</th>\n",
       "      <th>cycleway</th>\n",
       "      <th>service</th>\n",
       "      <th>bridge</th>\n",
       "      <th>tunnel</th>\n",
       "      <th>width</th>\n",
       "      <th>landuse</th>\n",
       "      <th>geometry</th>\n",
       "    </tr>\n",
       "    <tr>\n",
       "      <th>u</th>\n",
       "      <th>v</th>\n",
       "      <th>key</th>\n",
       "      <th></th>\n",
       "      <th></th>\n",
       "      <th></th>\n",
       "      <th></th>\n",
       "      <th></th>\n",
       "      <th></th>\n",
       "      <th></th>\n",
       "      <th></th>\n",
       "      <th></th>\n",
       "      <th></th>\n",
       "      <th></th>\n",
       "      <th></th>\n",
       "      <th></th>\n",
       "      <th></th>\n",
       "      <th></th>\n",
       "      <th></th>\n",
       "      <th></th>\n",
       "      <th></th>\n",
       "      <th></th>\n",
       "    </tr>\n",
       "  </thead>\n",
       "  <tbody>\n",
       "    <tr>\n",
       "      <th>13838746</th>\n",
       "      <th>9613272637</th>\n",
       "      <th>0</th>\n",
       "      <td>1044774713</td>\n",
       "      <td>unclassified</td>\n",
       "      <td>no</td>\n",
       "      <td>False</td>\n",
       "      <td>True</td>\n",
       "      <td>49.056</td>\n",
       "      <td>NaN</td>\n",
       "      <td>NaN</td>\n",
       "      <td>NaN</td>\n",
       "      <td>NaN</td>\n",
       "      <td>NaN</td>\n",
       "      <td>NaN</td>\n",
       "      <td>NaN</td>\n",
       "      <td>NaN</td>\n",
       "      <td>NaN</td>\n",
       "      <td>NaN</td>\n",
       "      <td>NaN</td>\n",
       "      <td>NaN</td>\n",
       "      <td>LINESTRING (-4.45811 36.71771, -4.45812 36.71815)</td>\n",
       "    </tr>\n",
       "    <tr>\n",
       "      <th rowspan=\"2\" valign=\"top\">21290306</th>\n",
       "      <th>2071281801</th>\n",
       "      <th>0</th>\n",
       "      <td>76826111</td>\n",
       "      <td>secondary</td>\n",
       "      <td>NaN</td>\n",
       "      <td>False</td>\n",
       "      <td>False</td>\n",
       "      <td>10.143</td>\n",
       "      <td>4</td>\n",
       "      <td>Calle Hermanos Lumiere</td>\n",
       "      <td>50</td>\n",
       "      <td>NaN</td>\n",
       "      <td>NaN</td>\n",
       "      <td>NaN</td>\n",
       "      <td>NaN</td>\n",
       "      <td>NaN</td>\n",
       "      <td>NaN</td>\n",
       "      <td>NaN</td>\n",
       "      <td>NaN</td>\n",
       "      <td>NaN</td>\n",
       "      <td>LINESTRING (-4.46471 36.69213, -4.46480 36.69206)</td>\n",
       "    </tr>\n",
       "    <tr>\n",
       "      <th>3652392367</th>\n",
       "      <th>0</th>\n",
       "      <td>832525017</td>\n",
       "      <td>secondary</td>\n",
       "      <td>NaN</td>\n",
       "      <td>False</td>\n",
       "      <td>False</td>\n",
       "      <td>74.917</td>\n",
       "      <td>4</td>\n",
       "      <td>Calle Hermanos Lumiere</td>\n",
       "      <td>50</td>\n",
       "      <td>both</td>\n",
       "      <td>NaN</td>\n",
       "      <td>NaN</td>\n",
       "      <td>NaN</td>\n",
       "      <td>NaN</td>\n",
       "      <td>NaN</td>\n",
       "      <td>NaN</td>\n",
       "      <td>NaN</td>\n",
       "      <td>NaN</td>\n",
       "      <td>LINESTRING (-4.46471 36.69213, -4.46409 36.69258)</td>\n",
       "    </tr>\n",
       "    <tr>\n",
       "      <th rowspan=\"2\" valign=\"top\">21290310</th>\n",
       "      <th>2011588782</th>\n",
       "      <th>0</th>\n",
       "      <td>42402253</td>\n",
       "      <td>primary</td>\n",
       "      <td>NaN</td>\n",
       "      <td>True</td>\n",
       "      <td>False</td>\n",
       "      <td>22.260</td>\n",
       "      <td>2</td>\n",
       "      <td>Carretera Azucarera-Intelhorce</td>\n",
       "      <td>NaN</td>\n",
       "      <td>NaN</td>\n",
       "      <td>NaN</td>\n",
       "      <td>NaN</td>\n",
       "      <td>NaN</td>\n",
       "      <td>NaN</td>\n",
       "      <td>NaN</td>\n",
       "      <td>NaN</td>\n",
       "      <td>NaN</td>\n",
       "      <td>NaN</td>\n",
       "      <td>LINESTRING (-4.47365 36.68570, -4.47370 36.68589)</td>\n",
       "    </tr>\n",
       "    <tr>\n",
       "      <th>2061414467</th>\n",
       "      <th>0</th>\n",
       "      <td>133606354</td>\n",
       "      <td>secondary_link</td>\n",
       "      <td>NaN</td>\n",
       "      <td>True</td>\n",
       "      <td>False</td>\n",
       "      <td>29.790</td>\n",
       "      <td>2</td>\n",
       "      <td>NaN</td>\n",
       "      <td>50</td>\n",
       "      <td>no</td>\n",
       "      <td>NaN</td>\n",
       "      <td>NaN</td>\n",
       "      <td>NaN</td>\n",
       "      <td>NaN</td>\n",
       "      <td>NaN</td>\n",
       "      <td>NaN</td>\n",
       "      <td>NaN</td>\n",
       "      <td>NaN</td>\n",
       "      <td>LINESTRING (-4.47365 36.68570, -4.47347 36.68592)</td>\n",
       "    </tr>\n",
       "  </tbody>\n",
       "</table>\n",
       "</div>"
      ],
      "text/plain": [
       "                              osmid         highway access  oneway  reversed  \\\n",
       "u        v          key                                                        \n",
       "13838746 9613272637 0    1044774713    unclassified     no   False      True   \n",
       "21290306 2071281801 0      76826111       secondary    NaN   False     False   \n",
       "         3652392367 0     832525017       secondary    NaN   False     False   \n",
       "21290310 2011588782 0      42402253         primary    NaN    True     False   \n",
       "         2061414467 0     133606354  secondary_link    NaN    True     False   \n",
       "\n",
       "                         length lanes                            name  \\\n",
       "u        v          key                                                 \n",
       "13838746 9613272637 0    49.056   NaN                             NaN   \n",
       "21290306 2071281801 0    10.143     4          Calle Hermanos Lumiere   \n",
       "         3652392367 0    74.917     4          Calle Hermanos Lumiere   \n",
       "21290310 2011588782 0    22.260     2  Carretera Azucarera-Intelhorce   \n",
       "         2061414467 0    29.790     2                             NaN   \n",
       "\n",
       "                        maxspeed sidewalk junction  ref cycleway service  \\\n",
       "u        v          key                                                    \n",
       "13838746 9613272637 0        NaN      NaN      NaN  NaN      NaN     NaN   \n",
       "21290306 2071281801 0         50      NaN      NaN  NaN      NaN     NaN   \n",
       "         3652392367 0         50     both      NaN  NaN      NaN     NaN   \n",
       "21290310 2011588782 0        NaN      NaN      NaN  NaN      NaN     NaN   \n",
       "         2061414467 0         50       no      NaN  NaN      NaN     NaN   \n",
       "\n",
       "                        bridge tunnel width landuse  \\\n",
       "u        v          key                               \n",
       "13838746 9613272637 0      NaN    NaN   NaN     NaN   \n",
       "21290306 2071281801 0      NaN    NaN   NaN     NaN   \n",
       "         3652392367 0      NaN    NaN   NaN     NaN   \n",
       "21290310 2011588782 0      NaN    NaN   NaN     NaN   \n",
       "         2061414467 0      NaN    NaN   NaN     NaN   \n",
       "\n",
       "                                                                  geometry  \n",
       "u        v          key                                                     \n",
       "13838746 9613272637 0    LINESTRING (-4.45811 36.71771, -4.45812 36.71815)  \n",
       "21290306 2071281801 0    LINESTRING (-4.46471 36.69213, -4.46480 36.69206)  \n",
       "         3652392367 0    LINESTRING (-4.46471 36.69213, -4.46409 36.69258)  \n",
       "21290310 2011588782 0    LINESTRING (-4.47365 36.68570, -4.47370 36.68589)  \n",
       "         2061414467 0    LINESTRING (-4.47365 36.68570, -4.47347 36.68592)  "
      ]
     },
     "execution_count": 21,
     "metadata": {},
     "output_type": "execute_result"
    }
   ],
   "source": [
    "# edges.head()\n",
    "\n",
    "# print(edges[\"cycleway:right\"].value_counts() )\n",
    "edges.head()\n"
   ]
  },
  {
   "cell_type": "code",
   "execution_count": 22,
   "metadata": {
    "colab": {
     "base_uri": "https://localhost:8080/"
    },
    "executionInfo": {
     "elapsed": 18,
     "status": "ok",
     "timestamp": 1668613038563,
     "user": {
      "displayName": "Diego Pedroza",
      "userId": "03510953465629295221"
     },
     "user_tz": -60
    },
    "id": "UFJI-J3EkJ3x",
    "outputId": "b8b288f9-b142-48e9-a4c9-85218edda1f5"
   },
   "outputs": [
    {
     "data": {
      "text/plain": [
       "Index(['osmid', 'highway', 'access', 'oneway', 'reversed', 'length', 'lanes',\n",
       "       'name', 'maxspeed', 'sidewalk', 'junction', 'ref', 'cycleway',\n",
       "       'service', 'bridge', 'tunnel', 'width', 'landuse', 'geometry'],\n",
       "      dtype='object')"
      ]
     },
     "execution_count": 22,
     "metadata": {},
     "output_type": "execute_result"
    }
   ],
   "source": [
    "edges.keys()\n"
   ]
  },
  {
   "cell_type": "code",
   "execution_count": 23,
   "metadata": {
    "colab": {
     "base_uri": "https://localhost:8080/"
    },
    "executionInfo": {
     "elapsed": 16,
     "status": "ok",
     "timestamp": 1668613038564,
     "user": {
      "displayName": "Diego Pedroza",
      "userId": "03510953465629295221"
     },
     "user_tz": -60
    },
    "id": "cbur0FJ48Ir0",
    "outputId": "b92e9baf-817e-4637-8520-b9e97b946944"
   },
   "outputs": [
    {
     "data": {
      "text/plain": [
       "no             2337\n",
       "customers      2180\n",
       "yes            1747\n",
       "destination      77\n",
       "permit            5\n",
       "Name: access, dtype: int64"
      ]
     },
     "execution_count": 23,
     "metadata": {},
     "output_type": "execute_result"
    }
   ],
   "source": [
    "edges[\"access\"].value_counts()"
   ]
  },
  {
   "cell_type": "code",
   "execution_count": 24,
   "metadata": {
    "colab": {
     "base_uri": "https://localhost:8080/"
    },
    "executionInfo": {
     "elapsed": 14,
     "status": "ok",
     "timestamp": 1668613038564,
     "user": {
      "displayName": "Diego Pedroza",
      "userId": "03510953465629295221"
     },
     "user_tz": -60
    },
    "id": "qqL_JCtIEDxJ",
    "outputId": "dea28b4c-5f3a-4e81-ba27-c080be07cd76"
   },
   "outputs": [
    {
     "data": {
      "text/plain": [
       "track             114250\n",
       "residential        52118\n",
       "service            35490\n",
       "path               29160\n",
       "unclassified       15157\n",
       "secondary          10003\n",
       "tertiary            8903\n",
       "cycleway            7571\n",
       "primary             4999\n",
       "pedestrian          4477\n",
       "living_street       1095\n",
       "primary_link         439\n",
       "secondary_link       416\n",
       "trunk                276\n",
       "tertiary_link        160\n",
       "rest_area             48\n",
       "trunk_link            18\n",
       "Name: highway, dtype: int64"
      ]
     },
     "execution_count": 24,
     "metadata": {},
     "output_type": "execute_result"
    }
   ],
   "source": [
    "edges[\"highway\"].value_counts()"
   ]
  },
  {
   "cell_type": "code",
   "execution_count": null,
   "metadata": {
    "colab": {
     "base_uri": "https://localhost:8080/"
    },
    "executionInfo": {
     "elapsed": 13,
     "status": "ok",
     "timestamp": 1668613038564,
     "user": {
      "displayName": "Diego Pedroza",
      "userId": "03510953465629295221"
     },
     "user_tz": -60
    },
    "id": "R4tepRXV8Ykn",
    "outputId": "33e38a96-d5de-4482-f2bd-9f971de1022d"
   },
   "outputs": [
    {
     "data": {
      "text/plain": [
       "393072"
      ]
     },
     "execution_count": 15,
     "metadata": {},
     "output_type": "execute_result"
    }
   ],
   "source": [
    "edges[\"sidewalk\"].shape[0]"
   ]
  },
  {
   "cell_type": "markdown",
   "metadata": {
    "id": "gd0B0IV4oZh9"
   },
   "source": [
    "#### Explorando nodes"
   ]
  },
  {
   "cell_type": "code",
   "execution_count": 58,
   "metadata": {
    "colab": {
     "base_uri": "https://localhost:8080/",
     "height": 237
    },
    "executionInfo": {
     "elapsed": 13,
     "status": "ok",
     "timestamp": 1669113430069,
     "user": {
      "displayName": "Diego Pedroza",
      "userId": "03510953465629295221"
     },
     "user_tz": -60
    },
    "id": "dhr58pQ9ppWk",
    "outputId": "e0efb014-98ee-4897-f879-05b87db4c3bb"
   },
   "outputs": [
    {
     "data": {
      "text/html": [
       "\n",
       "  <div id=\"df-d15c5787-6b92-47f2-a7b8-90f98382eb3e\">\n",
       "    <div class=\"colab-df-container\">\n",
       "      <div>\n",
       "<style scoped>\n",
       "    .dataframe tbody tr th:only-of-type {\n",
       "        vertical-align: middle;\n",
       "    }\n",
       "\n",
       "    .dataframe tbody tr th {\n",
       "        vertical-align: top;\n",
       "    }\n",
       "\n",
       "    .dataframe thead th {\n",
       "        text-align: right;\n",
       "    }\n",
       "</style>\n",
       "<table border=\"1\" class=\"dataframe\">\n",
       "  <thead>\n",
       "    <tr style=\"text-align: right;\">\n",
       "      <th></th>\n",
       "      <th>y</th>\n",
       "      <th>x</th>\n",
       "      <th>street_count</th>\n",
       "      <th>ref</th>\n",
       "      <th>highway</th>\n",
       "      <th>amenity</th>\n",
       "      <th>geometry</th>\n",
       "    </tr>\n",
       "    <tr>\n",
       "      <th>osmid</th>\n",
       "      <th></th>\n",
       "      <th></th>\n",
       "      <th></th>\n",
       "      <th></th>\n",
       "      <th></th>\n",
       "      <th></th>\n",
       "      <th></th>\n",
       "    </tr>\n",
       "  </thead>\n",
       "  <tbody>\n",
       "    <tr>\n",
       "      <th>13837979</th>\n",
       "      <td>36.675384</td>\n",
       "      <td>-4.464154</td>\n",
       "      <td>2</td>\n",
       "      <td>NaN</td>\n",
       "      <td>NaN</td>\n",
       "      <td>NaN</td>\n",
       "      <td>POINT (-4.46415 36.67538)</td>\n",
       "    </tr>\n",
       "    <tr>\n",
       "      <th>13837996</th>\n",
       "      <td>36.754332</td>\n",
       "      <td>-4.429790</td>\n",
       "      <td>2</td>\n",
       "      <td>NaN</td>\n",
       "      <td>NaN</td>\n",
       "      <td>NaN</td>\n",
       "      <td>POINT (-4.42979 36.75433)</td>\n",
       "    </tr>\n",
       "    <tr>\n",
       "      <th>13838014</th>\n",
       "      <td>36.749302</td>\n",
       "      <td>-4.432974</td>\n",
       "      <td>2</td>\n",
       "      <td>NaN</td>\n",
       "      <td>NaN</td>\n",
       "      <td>NaN</td>\n",
       "      <td>POINT (-4.43297 36.74930)</td>\n",
       "    </tr>\n",
       "    <tr>\n",
       "      <th>13838017</th>\n",
       "      <td>36.662532</td>\n",
       "      <td>-4.470889</td>\n",
       "      <td>2</td>\n",
       "      <td>NaN</td>\n",
       "      <td>NaN</td>\n",
       "      <td>NaN</td>\n",
       "      <td>POINT (-4.47089 36.66253)</td>\n",
       "    </tr>\n",
       "    <tr>\n",
       "      <th>13838031</th>\n",
       "      <td>36.746493</td>\n",
       "      <td>-4.441268</td>\n",
       "      <td>2</td>\n",
       "      <td>NaN</td>\n",
       "      <td>NaN</td>\n",
       "      <td>NaN</td>\n",
       "      <td>POINT (-4.44127 36.74649)</td>\n",
       "    </tr>\n",
       "  </tbody>\n",
       "</table>\n",
       "</div>\n",
       "      <button class=\"colab-df-convert\" onclick=\"convertToInteractive('df-d15c5787-6b92-47f2-a7b8-90f98382eb3e')\"\n",
       "              title=\"Convert this dataframe to an interactive table.\"\n",
       "              style=\"display:none;\">\n",
       "        \n",
       "  <svg xmlns=\"http://www.w3.org/2000/svg\" height=\"24px\"viewBox=\"0 0 24 24\"\n",
       "       width=\"24px\">\n",
       "    <path d=\"M0 0h24v24H0V0z\" fill=\"none\"/>\n",
       "    <path d=\"M18.56 5.44l.94 2.06.94-2.06 2.06-.94-2.06-.94-.94-2.06-.94 2.06-2.06.94zm-11 1L8.5 8.5l.94-2.06 2.06-.94-2.06-.94L8.5 2.5l-.94 2.06-2.06.94zm10 10l.94 2.06.94-2.06 2.06-.94-2.06-.94-.94-2.06-.94 2.06-2.06.94z\"/><path d=\"M17.41 7.96l-1.37-1.37c-.4-.4-.92-.59-1.43-.59-.52 0-1.04.2-1.43.59L10.3 9.45l-7.72 7.72c-.78.78-.78 2.05 0 2.83L4 21.41c.39.39.9.59 1.41.59.51 0 1.02-.2 1.41-.59l7.78-7.78 2.81-2.81c.8-.78.8-2.07 0-2.86zM5.41 20L4 18.59l7.72-7.72 1.47 1.35L5.41 20z\"/>\n",
       "  </svg>\n",
       "      </button>\n",
       "      \n",
       "  <style>\n",
       "    .colab-df-container {\n",
       "      display:flex;\n",
       "      flex-wrap:wrap;\n",
       "      gap: 12px;\n",
       "    }\n",
       "\n",
       "    .colab-df-convert {\n",
       "      background-color: #E8F0FE;\n",
       "      border: none;\n",
       "      border-radius: 50%;\n",
       "      cursor: pointer;\n",
       "      display: none;\n",
       "      fill: #1967D2;\n",
       "      height: 32px;\n",
       "      padding: 0 0 0 0;\n",
       "      width: 32px;\n",
       "    }\n",
       "\n",
       "    .colab-df-convert:hover {\n",
       "      background-color: #E2EBFA;\n",
       "      box-shadow: 0px 1px 2px rgba(60, 64, 67, 0.3), 0px 1px 3px 1px rgba(60, 64, 67, 0.15);\n",
       "      fill: #174EA6;\n",
       "    }\n",
       "\n",
       "    [theme=dark] .colab-df-convert {\n",
       "      background-color: #3B4455;\n",
       "      fill: #D2E3FC;\n",
       "    }\n",
       "\n",
       "    [theme=dark] .colab-df-convert:hover {\n",
       "      background-color: #434B5C;\n",
       "      box-shadow: 0px 1px 3px 1px rgba(0, 0, 0, 0.15);\n",
       "      filter: drop-shadow(0px 1px 2px rgba(0, 0, 0, 0.3));\n",
       "      fill: #FFFFFF;\n",
       "    }\n",
       "  </style>\n",
       "\n",
       "      <script>\n",
       "        const buttonEl =\n",
       "          document.querySelector('#df-d15c5787-6b92-47f2-a7b8-90f98382eb3e button.colab-df-convert');\n",
       "        buttonEl.style.display =\n",
       "          google.colab.kernel.accessAllowed ? 'block' : 'none';\n",
       "\n",
       "        async function convertToInteractive(key) {\n",
       "          const element = document.querySelector('#df-d15c5787-6b92-47f2-a7b8-90f98382eb3e');\n",
       "          const dataTable =\n",
       "            await google.colab.kernel.invokeFunction('convertToInteractive',\n",
       "                                                     [key], {});\n",
       "          if (!dataTable) return;\n",
       "\n",
       "          const docLinkHtml = 'Like what you see? Visit the ' +\n",
       "            '<a target=\"_blank\" href=https://colab.research.google.com/notebooks/data_table.ipynb>data table notebook</a>'\n",
       "            + ' to learn more about interactive tables.';\n",
       "          element.innerHTML = '';\n",
       "          dataTable['output_type'] = 'display_data';\n",
       "          await google.colab.output.renderOutput(dataTable, element);\n",
       "          const docLink = document.createElement('div');\n",
       "          docLink.innerHTML = docLinkHtml;\n",
       "          element.appendChild(docLink);\n",
       "        }\n",
       "      </script>\n",
       "    </div>\n",
       "  </div>\n",
       "  "
      ],
      "text/plain": [
       "                  y         x  street_count  ref highway amenity  \\\n",
       "osmid                                                              \n",
       "13837979  36.675384 -4.464154             2  NaN     NaN     NaN   \n",
       "13837996  36.754332 -4.429790             2  NaN     NaN     NaN   \n",
       "13838014  36.749302 -4.432974             2  NaN     NaN     NaN   \n",
       "13838017  36.662532 -4.470889             2  NaN     NaN     NaN   \n",
       "13838031  36.746493 -4.441268             2  NaN     NaN     NaN   \n",
       "\n",
       "                           geometry  \n",
       "osmid                                \n",
       "13837979  POINT (-4.46415 36.67538)  \n",
       "13837996  POINT (-4.42979 36.75433)  \n",
       "13838014  POINT (-4.43297 36.74930)  \n",
       "13838017  POINT (-4.47089 36.66253)  \n",
       "13838031  POINT (-4.44127 36.74649)  "
      ]
     },
     "execution_count": 58,
     "metadata": {},
     "output_type": "execute_result"
    }
   ],
   "source": [
    "nodes.head()"
   ]
  },
  {
   "cell_type": "code",
   "execution_count": 59,
   "metadata": {
    "colab": {
     "base_uri": "https://localhost:8080/"
    },
    "executionInfo": {
     "elapsed": 11,
     "status": "ok",
     "timestamp": 1669113430070,
     "user": {
      "displayName": "Diego Pedroza",
      "userId": "03510953465629295221"
     },
     "user_tz": -60
    },
    "id": "p0cL2a7qoeNO",
    "outputId": "91187397-91ac-4d2d-f6c5-9a2200977844"
   },
   "outputs": [
    {
     "data": {
      "text/plain": [
       "parking_entrance    349\n",
       "parking              21\n",
       "car_rental            1\n",
       "Name: amenity, dtype: int64"
      ]
     },
     "execution_count": 59,
     "metadata": {},
     "output_type": "execute_result"
    }
   ],
   "source": [
    "nodes[\"amenity\"].value_counts()"
   ]
  },
  {
   "cell_type": "markdown",
   "metadata": {
    "id": "Td_65qsYEXen"
   },
   "source": [
    "### Análisis del grafo por partes\n"
   ]
  },
  {
   "cell_type": "code",
   "execution_count": null,
   "metadata": {
    "id": "AXfqIXJ1EbxA"
   },
   "outputs": [],
   "source": []
  },
  {
   "cell_type": "markdown",
   "metadata": {
    "id": "UW-8_Na647D1"
   },
   "source": [
    "### Salvamos los datos"
   ]
  },
  {
   "cell_type": "code",
   "execution_count": null,
   "metadata": {
    "colab": {
     "base_uri": "https://localhost:8080/"
    },
    "executionInfo": {
     "elapsed": 891281,
     "status": "ok",
     "timestamp": 1668613929835,
     "user": {
      "displayName": "Diego Pedroza",
      "userId": "03510953465629295221"
     },
     "user_tz": -60
    },
    "id": "5IdEeAMz49k4",
    "outputId": "c87d5ec8-22f5-455d-d99b-002e052387af"
   },
   "outputs": [
    {
     "name": "stderr",
     "output_type": "stream",
     "text": [
      "/usr/local/lib/python3.7/dist-packages/osmnx/osm_xml.py:182: UserWarning: In order for save_graph_xml to behave properly the graph must have been created with the `all_oneway` setting set to True.\n",
      "  warnings.warn(msg)\n",
      "/usr/local/lib/python3.7/dist-packages/osmnx/io.py:108: UserWarning: Column names longer than 10 characters will be truncated when saved to ESRI Shapefile.\n",
      "  gdf_nodes.to_file(filepath_nodes, driver=\"ESRI Shapefile\", index=True, encoding=encoding)\n",
      "WARNING:fiona._env:Normalized/laundered field name: 'street_count' to 'street_cou'\n"
     ]
    }
   ],
   "source": [
    "ox.osm_xml.save_graph_xml(G, filepath=data_path + output_file + '.osm')\n",
    "ox.io.save_graphml(G, filepath=data_path + output_file + '.graphml')\n",
    "ox.io.save_graph_shapefile(G, filepath=data_path + output_file + '.shp', encoding='utf-8', directed=False)"
   ]
  }
 ],
 "metadata": {
  "colab": {
   "provenance": [],
   "toc_visible": true
  },
  "kernelspec": {
   "display_name": "Python 3 (ipykernel)",
   "language": "python",
   "name": "python3"
  },
  "language_info": {
   "codemirror_mode": {
    "name": "ipython",
    "version": 3
   },
   "file_extension": ".py",
   "mimetype": "text/x-python",
   "name": "python",
   "nbconvert_exporter": "python",
   "pygments_lexer": "ipython3",
   "version": "3.11.1"
  }
 },
 "nbformat": 4,
 "nbformat_minor": 4
}
